{
 "cells": [
  {
   "cell_type": "code",
   "execution_count": 1,
   "metadata": {},
   "outputs": [],
   "source": [
    "import pandas as pd\n",
    "import numpy as np\n",
    "from sklearn.cluster import KMeans\n",
    "from sklearn.metrics import silhouette_samples,silhouette_score\n",
    "import matplotlib.pyplot as plt\n",
    "import seaborn as sns\n",
    "import math\n",
    "import random\n",
    "import copy"
   ]
  },
  {
   "cell_type": "markdown",
   "metadata": {},
   "source": [
    "## Get Data"
   ]
  },
  {
   "cell_type": "code",
   "execution_count": 2,
   "metadata": {},
   "outputs": [
    {
     "name": "stdout",
     "output_type": "stream",
     "text": [
      "Total Data 230625\n"
     ]
    },
    {
     "data": {
      "text/html": [
       "<div>\n",
       "<style scoped>\n",
       "    .dataframe tbody tr th:only-of-type {\n",
       "        vertical-align: middle;\n",
       "    }\n",
       "\n",
       "    .dataframe tbody tr th {\n",
       "        vertical-align: top;\n",
       "    }\n",
       "\n",
       "    .dataframe thead th {\n",
       "        text-align: right;\n",
       "    }\n",
       "</style>\n",
       "<table border=\"1\" class=\"dataframe\">\n",
       "  <thead>\n",
       "    <tr style=\"text-align: right;\">\n",
       "      <th></th>\n",
       "      <th>Jenis_Kelamin</th>\n",
       "      <th>Umur</th>\n",
       "      <th>SIM</th>\n",
       "      <th>Kode_Daerah</th>\n",
       "      <th>Sudah_Asuransi</th>\n",
       "      <th>Umur_Kendaraan</th>\n",
       "      <th>Kendaraan_Rusak</th>\n",
       "      <th>Premi</th>\n",
       "      <th>Kanal_Penjualan</th>\n",
       "      <th>Lama_Berlangganan</th>\n",
       "    </tr>\n",
       "  </thead>\n",
       "  <tbody>\n",
       "    <tr>\n",
       "      <th>0</th>\n",
       "      <td>1.000000</td>\n",
       "      <td>0.153846</td>\n",
       "      <td>1.0</td>\n",
       "      <td>0.634615</td>\n",
       "      <td>1.0</td>\n",
       "      <td>0.5</td>\n",
       "      <td>1.000000</td>\n",
       "      <td>0.409000</td>\n",
       "      <td>0.932099</td>\n",
       "      <td>0.301038</td>\n",
       "    </tr>\n",
       "    <tr>\n",
       "      <th>1</th>\n",
       "      <td>0.000000</td>\n",
       "      <td>0.430769</td>\n",
       "      <td>1.0</td>\n",
       "      <td>0.750000</td>\n",
       "      <td>0.0</td>\n",
       "      <td>1.0</td>\n",
       "      <td>0.000000</td>\n",
       "      <td>0.367431</td>\n",
       "      <td>0.172840</td>\n",
       "      <td>0.512111</td>\n",
       "    </tr>\n",
       "    <tr>\n",
       "      <th>2</th>\n",
       "      <td>0.459542</td>\n",
       "      <td>0.015385</td>\n",
       "      <td>1.0</td>\n",
       "      <td>0.884615</td>\n",
       "      <td>1.0</td>\n",
       "      <td>0.5</td>\n",
       "      <td>1.000000</td>\n",
       "      <td>0.496727</td>\n",
       "      <td>0.981481</td>\n",
       "      <td>0.377163</td>\n",
       "    </tr>\n",
       "    <tr>\n",
       "      <th>3</th>\n",
       "      <td>0.000000</td>\n",
       "      <td>0.461538</td>\n",
       "      <td>1.0</td>\n",
       "      <td>0.673077</td>\n",
       "      <td>0.0</td>\n",
       "      <td>1.0</td>\n",
       "      <td>0.495196</td>\n",
       "      <td>0.536338</td>\n",
       "      <td>0.537037</td>\n",
       "      <td>0.636678</td>\n",
       "    </tr>\n",
       "    <tr>\n",
       "      <th>4</th>\n",
       "      <td>0.000000</td>\n",
       "      <td>0.015385</td>\n",
       "      <td>1.0</td>\n",
       "      <td>0.673077</td>\n",
       "      <td>1.0</td>\n",
       "      <td>0.5</td>\n",
       "      <td>1.000000</td>\n",
       "      <td>0.310270</td>\n",
       "      <td>0.932099</td>\n",
       "      <td>0.557093</td>\n",
       "    </tr>\n",
       "  </tbody>\n",
       "</table>\n",
       "</div>"
      ],
      "text/plain": [
       "   Jenis_Kelamin      Umur  SIM  Kode_Daerah  Sudah_Asuransi  Umur_Kendaraan  \\\n",
       "0       1.000000  0.153846  1.0     0.634615             1.0             0.5   \n",
       "1       0.000000  0.430769  1.0     0.750000             0.0             1.0   \n",
       "2       0.459542  0.015385  1.0     0.884615             1.0             0.5   \n",
       "3       0.000000  0.461538  1.0     0.673077             0.0             1.0   \n",
       "4       0.000000  0.015385  1.0     0.673077             1.0             0.5   \n",
       "\n",
       "   Kendaraan_Rusak     Premi  Kanal_Penjualan  Lama_Berlangganan  \n",
       "0         1.000000  0.409000         0.932099           0.301038  \n",
       "1         0.000000  0.367431         0.172840           0.512111  \n",
       "2         1.000000  0.496727         0.981481           0.377163  \n",
       "3         0.495196  0.536338         0.537037           0.636678  \n",
       "4         1.000000  0.310270         0.932099           0.557093  "
      ]
     },
     "execution_count": 2,
     "metadata": {},
     "output_type": "execute_result"
    }
   ],
   "source": [
    "df_kend_train = pd.read_csv('./../dataset/kendaraan_train_clean.csv')\n",
    "print(\"Total Data\", len(df_kend_train))\n",
    "df_kend_train.head()"
   ]
  },
  {
   "cell_type": "markdown",
   "metadata": {},
   "source": [
    "## Select Attribute for Clustering"
   ]
  },
  {
   "cell_type": "code",
   "execution_count": 3,
   "metadata": {},
   "outputs": [
    {
     "data": {
      "text/plain": [
       "Text(0.5, 1.0, 'Korelasi Tiap Atribut')"
      ]
     },
     "execution_count": 3,
     "metadata": {},
     "output_type": "execute_result"
    },
    {
     "data": {
      "image/png": "[encoded data removed]",
      "text/plain": [
       "<Figure size 720x720 with 2 Axes>"
      ]
     },
     "metadata": {
      "needs_background": "light"
     },
     "output_type": "display_data"
    }
   ],
   "source": [
    "corr = df_kend_train.corr()\n",
    "plt.figure(figsize=(10, 10))\n",
    "heatmap = sns.heatmap(corr, vmin=-1, vmax=1, annot=True, cmap='BrBG')\n",
    "heatmap.set_title('Korelasi Tiap Atribut')"
   ]
  },
  {
   "cell_type": "code",
   "execution_count": 4,
   "metadata": {},
   "outputs": [
    {
     "data": {
      "text/html": [
       "<div>\n",
       "<style scoped>\n",
       "    .dataframe tbody tr th:only-of-type {\n",
       "        vertical-align: middle;\n",
       "    }\n",
       "\n",
       "    .dataframe tbody tr th {\n",
       "        vertical-align: top;\n",
       "    }\n",
       "\n",
       "    .dataframe thead th {\n",
       "        text-align: right;\n",
       "    }\n",
       "</style>\n",
       "<table border=\"1\" class=\"dataframe\">\n",
       "  <thead>\n",
       "    <tr style=\"text-align: right;\">\n",
       "      <th></th>\n",
       "      <th>Kendaraan_Rusak</th>\n",
       "      <th>Sudah_Asuransi</th>\n",
       "      <th>Cluster</th>\n",
       "      <th>Color</th>\n",
       "    </tr>\n",
       "  </thead>\n",
       "  <tbody>\n",
       "    <tr>\n",
       "      <th>0</th>\n",
       "      <td>1.000000</td>\n",
       "      <td>1.0</td>\n",
       "      <td></td>\n",
       "      <td></td>\n",
       "    </tr>\n",
       "    <tr>\n",
       "      <th>1</th>\n",
       "      <td>0.000000</td>\n",
       "      <td>0.0</td>\n",
       "      <td></td>\n",
       "      <td></td>\n",
       "    </tr>\n",
       "    <tr>\n",
       "      <th>2</th>\n",
       "      <td>1.000000</td>\n",
       "      <td>1.0</td>\n",
       "      <td></td>\n",
       "      <td></td>\n",
       "    </tr>\n",
       "    <tr>\n",
       "      <th>3</th>\n",
       "      <td>0.495196</td>\n",
       "      <td>0.0</td>\n",
       "      <td></td>\n",
       "      <td></td>\n",
       "    </tr>\n",
       "    <tr>\n",
       "      <th>4</th>\n",
       "      <td>1.000000</td>\n",
       "      <td>1.0</td>\n",
       "      <td></td>\n",
       "      <td></td>\n",
       "    </tr>\n",
       "  </tbody>\n",
       "</table>\n",
       "</div>"
      ],
      "text/plain": [
       "   Kendaraan_Rusak  Sudah_Asuransi Cluster Color\n",
       "0         1.000000             1.0              \n",
       "1         0.000000             0.0              \n",
       "2         1.000000             1.0              \n",
       "3         0.495196             0.0              \n",
       "4         1.000000             1.0              "
      ]
     },
     "execution_count": 4,
     "metadata": {},
     "output_type": "execute_result"
    }
   ],
   "source": [
    "# x = 'Umur'\n",
    "# y = 'Kanal_Penjualan'\n",
    "x = 'Kendaraan_Rusak'\n",
    "y = 'Sudah_Asuransi'\n",
    "df_kend_train =df_kend_train[[x, y]]\n",
    "df = copy.deepcopy(df_kend_train)\n",
    "df['Cluster'] = \"\"\n",
    "df['Color'] = \"\"\n",
    "df.head()"
   ]
  },
  {
   "cell_type": "markdown",
   "metadata": {},
   "source": [
    "## Kmeans Function"
   ]
  },
  {
   "cell_type": "markdown",
   "metadata": {},
   "source": [
    "### Initiate Centroid with Random Value"
   ]
  },
  {
   "cell_type": "code",
   "execution_count": 5,
   "metadata": {},
   "outputs": [],
   "source": [
    "def initialCentroid(k, x, y, df):  \n",
    "  randValue = {}\n",
    "  for i in range(k):\n",
    "    randValue[i] = [df[x][random.randint(0, len(df))], df[y][random.randint(0, len(df))]]\n",
    "  print(\"rand: \", randValue)\n",
    "  return randValue"
   ]
  },
  {
   "cell_type": "markdown",
   "metadata": {},
   "source": [
    "### Calculate Distance Using Euclidean"
   ]
  },
  {
   "cell_type": "code",
   "execution_count": 6,
   "metadata": {},
   "outputs": [],
   "source": [
    "def calcEuclidean(a, b):\n",
    "  return math.sqrt((a[0]-b[0])**2 + (a[1] - b[1])**2)\n",
    "\n",
    "def calcDist(df, centroids):\n",
    "  colors = ['blue','orange','brown','red','olive','green','pink','grey','purple','cyan','gray']  \n",
    "  dftmp = df.copy()  \n",
    "  clus = []\n",
    "  color = []\n",
    "  for data in df.index:    \n",
    "    dist = []\n",
    "    rowData = [df[x][data], df[y][data]]\n",
    "    for centroid in centroids:\n",
    "      dist.append(calcEuclidean(rowData, centroids[centroid]))            \n",
    "    clusIdx = dist.index(min(dist))\n",
    "    clus.append(clusIdx)\n",
    "    color.append(colors[clusIdx])    \n",
    "  dftmp['Cluster'] = clus\n",
    "  dftmp['Color'] = color\n",
    "  return dftmp"
   ]
  },
  {
   "cell_type": "markdown",
   "metadata": {},
   "source": [
    "### Set New Centroid"
   ]
  },
  {
   "cell_type": "code",
   "execution_count": 7,
   "metadata": {},
   "outputs": [],
   "source": [
    "def setCentroid(centroids, x, y, df):\n",
    "  for i in centroids.keys():    \n",
    "    centroids[i][0] = np.mean(df.loc[df['Cluster']==i, x])\n",
    "    centroids[i][1] = np.mean(df.loc[df['Cluster']==i, y])\n",
    "  return centroids"
   ]
  },
  {
   "cell_type": "markdown",
   "metadata": {},
   "source": [
    "### Main Function KMeans"
   ]
  },
  {
   "cell_type": "code",
   "execution_count": 8,
   "metadata": {},
   "outputs": [],
   "source": [
    "def kMeans(k, x, y, df):      \n",
    "  centroid = initialCentroid(k, x, y, df)  \n",
    "  same = False\n",
    "  i = 0    \n",
    "  while(same == False):    \n",
    "    old_centroid = copy.deepcopy(centroid)    \n",
    "    df = calcDist(df, centroid)    \n",
    "    centroid = setCentroid(centroid, x, y, df)            \n",
    "    print('iterasi ke-', i)\n",
    "    print('Centroid Sekarang:')\n",
    "    for key in centroid.keys():\n",
    "      print(key, ': ', centroid.get(key))\n",
    "    if (old_centroid == centroid):\n",
    "      print('amsu')\n",
    "      same = True    \n",
    "    i+=1\n",
    "  print('Perulangan ke', i-1)\n",
    "  print('Hasil Akhir Centroid:')\n",
    "  for key in centroid.keys():\n",
    "    print(key, ': ', centroid.get(key))      \n",
    "  return centroid, df"
   ]
  },
  {
   "cell_type": "markdown",
   "metadata": {},
   "source": [
    "## Make Cluster Visualisation Function"
   ]
  },
  {
   "cell_type": "code",
   "execution_count": 9,
   "metadata": {},
   "outputs": [],
   "source": [
    "def visualisasi_cluster(df, x, y, centroid):\n",
    "  plt.figure(figsize=(6,6))\n",
    "  plt.title('Visualisasi Hasil Clustering')\n",
    "  plt.scatter(df[x], df[y], color=df['Color'], alpha=0.5)\n",
    "  for i in range(k):\n",
    "    plt.scatter(centroid[i][0], centroid[i][1], color='k', marker='p',s=200)\n",
    "\n",
    "  plt.xlabel(x)\n",
    "  plt.ylabel(y)\n",
    "  plt.show()"
   ]
  },
  {
   "cell_type": "markdown",
   "metadata": {},
   "source": [
    "## Proses Clustering with 3 total cluster"
   ]
  },
  {
   "cell_type": "code",
   "execution_count": 10,
   "metadata": {},
   "outputs": [
    {
     "name": "stdout",
     "output_type": "stream",
     "text": [
      "rand:  {0: [0.0, 0.0], 1: [0.0, 0.0]}\n",
      "iterasi ke- 0\n",
      "Centroid Sekarang:\n",
      "0 :  [0.5125073801060652, 0.47872745789744375]\n",
      "1 :  [nan, nan]\n",
      "iterasi ke- 1\n",
      "Centroid Sekarang:\n",
      "0 :  [0.5125073801060652, 0.47872745789744375]\n",
      "1 :  [nan, nan]\n",
      "amsu\n",
      "Perulangan ke 1\n",
      "Hasil Akhir Centroid:\n",
      "0 :  [0.5125073801060652, 0.47872745789744375]\n",
      "1 :  [nan, nan]\n"
     ]
    },
    {
     "data": {
      "text/html": [
       "<div>\n",
       "<style scoped>\n",
       "    .dataframe tbody tr th:only-of-type {\n",
       "        vertical-align: middle;\n",
       "    }\n",
       "\n",
       "    .dataframe tbody tr th {\n",
       "        vertical-align: top;\n",
       "    }\n",
       "\n",
       "    .dataframe thead th {\n",
       "        text-align: right;\n",
       "    }\n",
       "</style>\n",
       "<table border=\"1\" class=\"dataframe\">\n",
       "  <thead>\n",
       "    <tr style=\"text-align: right;\">\n",
       "      <th></th>\n",
       "      <th>Kendaraan_Rusak</th>\n",
       "      <th>Sudah_Asuransi</th>\n",
       "      <th>Cluster</th>\n",
       "      <th>Color</th>\n",
       "    </tr>\n",
       "  </thead>\n",
       "  <tbody>\n",
       "    <tr>\n",
       "      <th>0</th>\n",
       "      <td>1.000000</td>\n",
       "      <td>1.0</td>\n",
       "      <td>0</td>\n",
       "      <td>blue</td>\n",
       "    </tr>\n",
       "    <tr>\n",
       "      <th>1</th>\n",
       "      <td>0.000000</td>\n",
       "      <td>0.0</td>\n",
       "      <td>0</td>\n",
       "      <td>blue</td>\n",
       "    </tr>\n",
       "    <tr>\n",
       "      <th>2</th>\n",
       "      <td>1.000000</td>\n",
       "      <td>1.0</td>\n",
       "      <td>0</td>\n",
       "      <td>blue</td>\n",
       "    </tr>\n",
       "    <tr>\n",
       "      <th>3</th>\n",
       "      <td>0.495196</td>\n",
       "      <td>0.0</td>\n",
       "      <td>0</td>\n",
       "      <td>blue</td>\n",
       "    </tr>\n",
       "    <tr>\n",
       "      <th>4</th>\n",
       "      <td>1.000000</td>\n",
       "      <td>1.0</td>\n",
       "      <td>0</td>\n",
       "      <td>blue</td>\n",
       "    </tr>\n",
       "    <tr>\n",
       "      <th>...</th>\n",
       "      <td>...</td>\n",
       "      <td>...</td>\n",
       "      <td>...</td>\n",
       "      <td>...</td>\n",
       "    </tr>\n",
       "    <tr>\n",
       "      <th>230620</th>\n",
       "      <td>1.000000</td>\n",
       "      <td>1.0</td>\n",
       "      <td>0</td>\n",
       "      <td>blue</td>\n",
       "    </tr>\n",
       "    <tr>\n",
       "      <th>230621</th>\n",
       "      <td>1.000000</td>\n",
       "      <td>1.0</td>\n",
       "      <td>0</td>\n",
       "      <td>blue</td>\n",
       "    </tr>\n",
       "    <tr>\n",
       "      <th>230622</th>\n",
       "      <td>1.000000</td>\n",
       "      <td>1.0</td>\n",
       "      <td>0</td>\n",
       "      <td>blue</td>\n",
       "    </tr>\n",
       "    <tr>\n",
       "      <th>230623</th>\n",
       "      <td>1.000000</td>\n",
       "      <td>1.0</td>\n",
       "      <td>0</td>\n",
       "      <td>blue</td>\n",
       "    </tr>\n",
       "    <tr>\n",
       "      <th>230624</th>\n",
       "      <td>0.000000</td>\n",
       "      <td>0.0</td>\n",
       "      <td>0</td>\n",
       "      <td>blue</td>\n",
       "    </tr>\n",
       "  </tbody>\n",
       "</table>\n",
       "<p>230625 rows × 4 columns</p>\n",
       "</div>"
      ],
      "text/plain": [
       "        Kendaraan_Rusak  Sudah_Asuransi  Cluster Color\n",
       "0              1.000000             1.0        0  blue\n",
       "1              0.000000             0.0        0  blue\n",
       "2              1.000000             1.0        0  blue\n",
       "3              0.495196             0.0        0  blue\n",
       "4              1.000000             1.0        0  blue\n",
       "...                 ...             ...      ...   ...\n",
       "230620         1.000000             1.0        0  blue\n",
       "230621         1.000000             1.0        0  blue\n",
       "230622         1.000000             1.0        0  blue\n",
       "230623         1.000000             1.0        0  blue\n",
       "230624         0.000000             0.0        0  blue\n",
       "\n",
       "[230625 rows x 4 columns]"
      ]
     },
     "execution_count": 10,
     "metadata": {},
     "output_type": "execute_result"
    }
   ],
   "source": [
    "k = 2\n",
    "centroid, df_hasil = kMeans(k, x, y, df)\n",
    "df_hasil"
   ]
  },
  {
   "cell_type": "code",
   "execution_count": 11,
   "metadata": {},
   "outputs": [
    {
     "data": {
      "image/png": "[encoded data removed]",
      "text/plain": [
       "<Figure size 432x432 with 1 Axes>"
      ]
     },
     "metadata": {
      "needs_background": "light"
     },
     "output_type": "display_data"
    }
   ],
   "source": [
    "visualisasi_cluster(df_hasil, x, y, centroid)"
   ]
  },
  {
   "cell_type": "markdown",
   "metadata": {},
   "source": [
    "## Evaluasi Model"
   ]
  },
  {
   "cell_type": "markdown",
   "metadata": {},
   "source": [
    "### Elbow Method"
   ]
  },
  {
   "cell_type": "code",
   "execution_count": 12,
   "metadata": {},
   "outputs": [
    {
     "data": {
      "image/png": "[encoded data removed]",
      "text/plain": [
       "<Figure size 432x288 with 1 Axes>"
      ]
     },
     "metadata": {
      "needs_background": "light"
     },
     "output_type": "display_data"
    }
   ],
   "source": [
    "wcss = []\n",
    "K = range(2, 10)\n",
    "for k in K:\n",
    "    km = KMeans(n_clusters=k)\n",
    "    km = km.fit(df_kend_train)\n",
    "    wcss.append(km.inertia_)\n",
    "\n",
    "plt.plot(K, wcss, 'bx-')\n",
    "plt.xlabel('k cluster')\n",
    "plt.ylabel('Sum of squared')\n",
    "plt.title('Elbow Method')\n",
    "plt.show()"
   ]
  },
  {
   "cell_type": "markdown",
   "metadata": {},
   "source": [
    "### Silhouette Analysis"
   ]
  },
  {
   "cell_type": "code",
   "execution_count": 13,
   "metadata": {},
   "outputs": [],
   "source": [
    "# n_clusters = [2,3,4]\n",
    "# for i,k in enumerate(n_clusters):        \n",
    "#   km = KMeans(n_clusters=k)\n",
    "#   predict = km.fit_predict(df_kend_train)\n",
    "#   score = silhouette_score(df_kend_train, predict, metric=\"euclidean\")\n",
    "#   print(\"For \", k, \"n_clusters silhouette score is \", score)"
   ]
  },
  {
   "cell_type": "markdown",
   "metadata": {},
   "source": [
    "## Eksperimen"
   ]
  },
  {
   "cell_type": "markdown",
   "metadata": {},
   "source": [
    "### Test Jumlah Cluster Berdasarkan Evaluasi"
   ]
  },
  {
   "cell_type": "code",
   "execution_count": 14,
   "metadata": {},
   "outputs": [],
   "source": [
    "# k = 3\n",
    "# centroid, df_hasil = kMeans(k, x, y, df)\n",
    "# visualisasi_cluster(df_hasil, x, y, centroid)"
   ]
  }
 ],
 "metadata": {
  "interpreter": {
   "hash": "247ab06e135bb35fa78c5eff31b2a9a0050dcb5fb773c2631d2a29ac689eeccb"
  },
  "kernelspec": {
   "display_name": "Python 3.9.1 64-bit",
   "name": "python3"
  },
  "language_info": {
   "codemirror_mode": {
    "name": "ipython",
    "version": 3
   },
   "file_extension": ".py",
   "mimetype": "text/x-python",
   "name": "python",
   "nbconvert_exporter": "python",
   "pygments_lexer": "ipython3",
   "version": "3.9.1"
  },
  "orig_nbformat": 4
 },
 "nbformat": 4,
 "nbformat_minor": 2
}
