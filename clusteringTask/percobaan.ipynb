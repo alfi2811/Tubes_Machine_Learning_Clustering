{
 "cells": [
  {
   "cell_type": "code",
   "execution_count": 1,
   "metadata": {},
   "outputs": [
    {
     "ename": "SyntaxError",
     "evalue": "invalid syntax (Temp/ipykernel_16584/177631051.py, line 8)",
     "output_type": "error",
     "traceback": [
      "\u001b[1;36m  File \u001b[1;32m\"C:\\Users\\user\\AppData\\Local\\Temp/ipykernel_16584/177631051.py\"\u001b[1;36m, line \u001b[1;32m8\u001b[0m\n\u001b[1;33m    data = datasets.load_iris()dir(data)\u001b[0m\n\u001b[1;37m                               ^\u001b[0m\n\u001b[1;31mSyntaxError\u001b[0m\u001b[1;31m:\u001b[0m invalid syntax\n"
     ]
    }
   ],
   "source": [
    "import numpy as np\n",
    "import matplotlib.pyplot as plt\n",
    "%matplotlib inline\n",
    "from sklearn import datasets\n",
    "from sklearn.cluster import KMeans\n",
    "from sklearn.metrics import silhouette_samples,silhouette_score\n",
    "# load petal data\n",
    "data = datasets.load_iris()dir(data)\n",
    "# load into Dataframe \n",
    "df = pd.DataFrame(data.data,columns = data.feature_names)\n",
    "print(df.shape)\n",
    "df.head()\n",
    "df1 = df.drop(['sepal length (cm)', 'sepal width (cm)'],axis = 'columns')\n",
    "df1.head()\n",
    "# plot scatter plot\n",
    "plt.scatter(df1['petal length (cm)'],df1['petal width (cm)'])\n",
    "# Now check silhouette coefficient\n",
    "for i,k in enumerate([2,3,4,5]):\n",
    "    \n",
    "    fig, ax = plt.subplots(1,2,figsize=(15,5))\n",
    "    \n",
    "    # Run the kmeans algorithm\n",
    "    km = KMeans(n_clusters=k)\n",
    "    y_predict = km.fit_predict(df1)\n",
    "    centroids  = km.cluster_centers_\n",
    "# get silhouette\n",
    "silhouette_vals = silhouette_samples(df1,y_predict)\n",
    "    #silhouette_vals\n",
    "# silhouette plot\n",
    "y_ticks = []\n",
    "y_lower = y_upper = 0\n",
    "for i,cluster in enumerate(np.unique(y_predict)):\n",
    "   cluster_silhouette_vals = silhouette_vals[y_predict ==cluster]\n",
    "   cluster_silhouette_vals.sort()\n",
    "   y_upper += len(cluster_silhouette_vals)\n",
    "   \n",
    "   ax[0].barh(range(y_lower,y_upper),\n",
    "   cluster_silhouette_vals,height =1);\n",
    "   ax[0].text(-0.03,(y_lower+y_upper)/2,str(i+1))\n",
    "   y_lower += len(cluster_silhouette_vals)\n",
    "       \n",
    "   # Get the average silhouette score \n",
    "   avg_score = np.mean(silhouette_vals)\n",
    "   ax[0].axvline(avg_score,linestyle ='--',\n",
    "   linewidth =2,color = 'green')\n",
    "   ax[0].set_yticks([])\n",
    "   ax[0].set_xlim([-0.1, 1])\n",
    "   ax[0].set_xlabel('Silhouette coefficient values')\n",
    "   ax[0].set_ylabel('Cluster labels')\n",
    "   ax[0].set_title('Silhouette plot for the various clusters');\n",
    "    \n",
    "    \n",
    "    # scatter plot of data colored with labels\n",
    "    \n",
    "    ax[1].scatter(df2['petal length (cm)'],\n",
    "    df2['petal width (cm)'] , c = y_predict);\n",
    "    ax[1].scatter(centroids[:,0],centroids[:,1],\n",
    "    marker = '*' , c= 'r',s =250);\n",
    "    ax[1].set_xlabel('Eruption time in mins')\n",
    "    ax[1].set_ylabel('Waiting time to next eruption')\n",
    "    ax[1].set_title('Visualization of clustered data', y=1.02)\n",
    "    \n",
    "    plt.tight_layout()\n",
    "    plt.suptitle(f' Silhouette analysis using k = {k}',fontsize=16,fontweight = 'semibold')\n",
    "    plt.savefig(f'Silhouette_analysis_{k}.jpg')"
   ]
  }
 ],
 "metadata": {
  "interpreter": {
   "hash": "247ab06e135bb35fa78c5eff31b2a9a0050dcb5fb773c2631d2a29ac689eeccb"
  },
  "kernelspec": {
   "display_name": "Python 3.9.1 64-bit",
   "language": "python",
   "name": "python3"
  },
  "language_info": {
   "codemirror_mode": {
    "name": "ipython",
    "version": 3
   },
   "file_extension": ".py",
   "mimetype": "text/x-python",
   "name": "python",
   "nbconvert_exporter": "python",
   "pygments_lexer": "ipython3",
   "version": "3.9.1"
  },
  "orig_nbformat": 4
 },
 "nbformat": 4,
 "nbformat_minor": 2
}
